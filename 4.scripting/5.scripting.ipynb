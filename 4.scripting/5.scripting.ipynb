{
 "cells": [
  {
   "cell_type": "markdown",
   "metadata": {},
   "source": [
    "# Grab IPs for a list of servers\n",
    "\n",
    "Let's say you've migrated a bunch of servers "
   ]
  },
  {
   "cell_type": "code",
   "execution_count": null,
   "metadata": {},
   "outputs": [],
   "source": [
    "import socket\n",
    "\n",
    "addr1 = socket.gethostbyname('google.com')\n",
    "addr2 = socket.gethostbyname('yahoo.com')\n",
    "\n",
    "print(addr1, addr2)"
   ]
  },
  {
   "cell_type": "code",
   "execution_count": null,
   "metadata": {},
   "outputs": [],
   "source": [
    "server_list = [\"dcc-prod.jpl.nasa.gov\",\"jts-prod.jpl.nasa.gov\",\"lqe-prod.jpl.nasa.gov\",\"mon-prod.jpl.nasa.gov\",\"rm-01-prod.jpl.nasa.gov\",\"rs-prod.jpl.nasa.gov\"]"
   ]
  },
  {
   "cell_type": "code",
   "execution_count": null,
   "metadata": {},
   "outputs": [],
   "source": []
  }
 ],
 "metadata": {
  "kernelspec": {
   "display_name": "Python 3",
   "language": "python",
   "name": "python3"
  },
  "language_info": {
   "codemirror_mode": {
    "name": "ipython",
    "version": 3
   },
   "file_extension": ".py",
   "mimetype": "text/x-python",
   "name": "python",
   "nbconvert_exporter": "python",
   "pygments_lexer": "ipython3",
   "version": "3.7.1"
  }
 },
 "nbformat": 4,
 "nbformat_minor": 2
}
