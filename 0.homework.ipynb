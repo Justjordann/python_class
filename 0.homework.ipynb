{
 "cells": [
  {
   "cell_type": "markdown",
   "metadata": {},
   "source": [
    "# Build a movie app\n",
    "\n",
    "You are going to have an app that asks a user to enter a movie title. Your app will then search for that movie on <a href=\"https://www.rottentomatoes.com/\" target=\"\\_blank\">Rotten Tomatoes</a> and print the search results and the Rotten Tomatoes rating.\n",
    "\n",
    "For example, if a user searches in your app for \"Blade\", your app can get a list of results: \"Blade,\" \"Blade II,\" \"Blade Runner,\" \"Blade Runner 2049,\" and \"Blade of the Immortal (Mugen no jûnin).\" Your app can also tell the user that *Blade* has a 54% rating on Rotten Tomatoes.\n",
    "\n",
    "It's going to be awesome!\n",
    "\n",
    "Right now, let's set up some variables and print out their values. We will keep adding to the functionality of this app each week."
   ]
  },
  {
   "cell_type": "markdown",
   "metadata": {},
   "source": [
    "## Part 1\n",
    "Our first goal is just to get the app printing out movie titles and ratings. We'll hard-code in some values for now.\n",
    "\n",
    "1. Create a variable `movie_title` and set it to `Back to the Future`.\n",
    "1. Create a variable `movie_ratings` to hold the rating and set it to `8`.\n",
    "1. Make a `print` statement that says, `The rating for <movie_title> is <movie_rating>`. It should call your new variables, so for example, `The rating for Back to the Future is 8`."
   ]
  },
  {
   "cell_type": "code",
   "execution_count": null,
   "metadata": {},
   "outputs": [],
   "source": []
  }
 ],
 "metadata": {
  "kernelspec": {
   "display_name": "Python 3",
   "language": "python",
   "name": "python3"
  },
  "language_info": {
   "codemirror_mode": {
    "name": "ipython",
    "version": 3
   },
   "file_extension": ".py",
   "mimetype": "text/x-python",
   "name": "python",
   "nbconvert_exporter": "python",
   "pygments_lexer": "ipython3",
   "version": "3.7.1"
  }
 },
 "nbformat": 4,
 "nbformat_minor": 2
}
