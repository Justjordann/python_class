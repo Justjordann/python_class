{
 "cells": [
  {
   "attachments": {},
   "cell_type": "markdown",
   "metadata": {},
   "source": [
    "# Set up SSH keys for class\n",
    "Different ways of accessing a server:\n",
    "* Kerberos authentication\n",
    "* RSA token\n",
    "* SSH keys (<u>S</u>ecure <u>SH</u>ell)\n",
    "\n",
    "Why are we using SSH keys?\n",
    "* I'm too lazy to add each of you to the `/etc/security/access.conf` file :P\n",
    " * Let's try adding one person's username to that file and test his/her access - I would have to do this for everyone unless you all happen to belong in the same LDAP group, then I could just add the LDAP group.\n",
    "* SSH uses asymmetric ciphers encryption, whereas symmetric ciphers make it possible for username and passwords can be stolen in the middle\n",
    " * Symmetric encryption = we both have the same template (If I say \"ABC\", that means \"ZYX\") - encryption and decryption occurs together.\n",
    " * Asymmetric encryption = I have a private key (decrypt key) and all my servers have a public key (encrypt key). \n",
    "\n",
    "\n",
    "**1. I've created an SSH keypair for the class to access our class server `python-class`**\n",
    " * Share the private key **securely** via https://onetimesecret.com/\n",
    " * Save the key somewhere safe\n",
    " \n",
    "**2. SSH as user `student` to server `python-class`**\n",
    " * `ssh -i id_rsa_python_class student@python-class`\n",
    " \n",
    "**3. Create your working directory**\n",
    " * `mkdir <username>`\n",
    " * `cd <username>`\n",
    " * `pwd` (make sure you are in your own directory so you're not working in someone else's space)"
   ]
  },
  {
   "cell_type": "markdown",
   "metadata": {},
   "source": [
    "# Install Docker\n",
    "* `yum install docker`\n",
    "* `service docker restart`\n",
    "* `docker ps` (there should be no running containers)\n",
    "\n",
    "To use Docker without typing `sudo` every time, add the Docker group (if it doesn’t already exist)\n",
    "* `sudo groupadd docker`\n",
    "* `sudo usermod -aG docker $USER`\n",
    "* Log out and log back in again"
   ]
  },
  {
   "cell_type": "markdown",
   "metadata": {},
   "source": [
    "------\n",
    "# Clone the `origin` repository\n",
    "\n",
    "**1. Clone the git repository for this class.**<br>\n",
    "* Note: Make sure you are in your own directory!\n",
    "* ```git clone git@github.com:josephinemho/python_class.git```\n",
    "\n",
    "**2. From the cloned folder, pull the Docker image.**<br>\n",
    "We will use an image for running a Jupyter server and call our container **<your_username>**.\n",
    "* ```docker pull jupyter/minimal-notebook```<vr>\n",
    "* ```docker run -d -v `pwd`:/home/jovyan/work -p <your_assigned_port>:8888 --name <your_username> jupyter/minimal-notebook```<br>\n",
    "\n",
    "**3. Hold down the ```command/ctrl``` key and click on the link to get to the Jupyter server in your browser.**<br>\n",
    "Alternatively, you can use the following command to get the link:\n",
    "* ```docker exec <your_username> jupyter notebook list```\n",
    "\n",
    "You should be able to access the cloned repository via your web browser and start coding in Python using Jupyter notebooks!"
   ]
  },
  {
   "attachments": {},
   "cell_type": "markdown",
   "metadata": {},
   "source": [
    "------\n",
    "# Push to your own repository\n",
    "Duplicate a notebook and add your name to the end of the file. Then, update `.gitignore` to include notebooks with `*jmho*`\n",
    "\n",
    "* Create a repository in your own Github account\n",
    "* Add your key to Github (`cat ~/.ssh/id_rsa.pub`)\n",
    "* Add your repository as a remote alias (`git remote add <username> <your_github_repository>\n",
    "* Check that the new remote has been added (`git remote -v`)\n",
    "* Push to your work to your own repository (`git push <username> master`)\n",
    "\n",
    "[Github Slides](https://github.com/travisDhuang/DAT8/blob/master/slides/02_git_github.pdf)"
   ]
  },
  {
   "cell_type": "markdown",
   "metadata": {
    "collapsed": true
   },
   "source": [
    "------\n",
    "# Pushing and puling"
   ]
  },
  {
   "cell_type": "markdown",
   "metadata": {},
   "source": [
    "From now on, we will *pull* our work from the origin repository and *push* your own work to your personal repository.\n",
    "\n",
    "Before each lesson, pull updates from the git repo by doing the following:\n",
    "* `git pull origin master`\n",
    "\n",
    "During each lesson, open the blank notebook and add your name to the end of the title \n",
    "* (e.g. `2.data_types_jmho`)\n",
    "\n",
    "After each lesson, push your work to your personal repo by doing the following:\n",
    "* `git push public master`"
   ]
  }
 ],
 "metadata": {
  "kernelspec": {
   "display_name": "Python 3",
   "language": "python",
   "name": "python3"
  },
  "language_info": {
   "codemirror_mode": {
    "name": "ipython",
    "version": 3
   },
   "file_extension": ".py",
   "mimetype": "text/x-python",
   "name": "python",
   "nbconvert_exporter": "python",
   "pygments_lexer": "ipython3",
   "version": "3.7.1"
  }
 },
 "nbformat": 4,
 "nbformat_minor": 2
}
