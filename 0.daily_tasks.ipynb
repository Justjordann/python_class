{
 "cells": [
  {
   "cell_type": "markdown",
   "metadata": {},
   "source": [
    "# 1. Pull from origin remote\n",
    "* `cd` into your working directory (e.g. python_class)\n",
    "* `git pull origin master`"
   ]
  },
  {
   "cell_type": "markdown",
   "metadata": {},
   "source": [
    "# 2. Get to the Jupyter server\n",
    "* Open web browser and get to your Jupyter environment. \n",
    "\n",
    "The link should be `<ip>:<port>` (if you are running Docker locally, then replace `<ip>` with `localhost`.\n",
    "* To find the port that your docker container is using, type `docker ps`\n",
    "* To find the token to access the jupyter server, type `docker exec <container_name> jupyter notebook list`"
   ]
  },
  {
   "cell_type": "markdown",
   "metadata": {},
   "source": [
    "# 3. Do work\n",
    "* Make sure to always make a copy of your work by adding your name to the end of any file you're working on (e.g. rename `2.variables.ipynb` to `2.variables_jmho.ipynb`)\n",
    "\n",
    "This will prevent merge conflicts and make sure your work doesn't get overwritten when you `git pull origin master`."
   ]
  },
  {
   "cell_type": "markdown",
   "metadata": {},
   "source": [
    "# 4. Push your work to your own repository\n",
    "* `git add -A`\n",
    "* `git commit -m \"<your message here>\"`\n",
    "* `git push <my_remote_name> master`\n",
    "\n",
    "\n",
    " * To check the name of the remote of your own repository, type `git remote -v`"
   ]
  }
 ],
 "metadata": {
  "kernelspec": {
   "display_name": "Python 3",
   "language": "python",
   "name": "python3"
  },
  "language_info": {
   "codemirror_mode": {
    "name": "ipython",
    "version": 3
   },
   "file_extension": ".py",
   "mimetype": "text/x-python",
   "name": "python",
   "nbconvert_exporter": "python",
   "pygments_lexer": "ipython3",
   "version": "3.7.1"
  }
 },
 "nbformat": 4,
 "nbformat_minor": 2
}
