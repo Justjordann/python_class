{
 "cells": [
  {
   "cell_type": "markdown",
   "metadata": {},
   "source": [
    "# Basic data types"
   ]
  },
  {
   "cell_type": "code",
   "execution_count": 1,
   "metadata": {},
   "outputs": [],
   "source": [
    "# create an object\n",
    "\n",
    "x = 5"
   ]
  },
  {
   "cell_type": "code",
   "execution_count": 2,
   "metadata": {},
   "outputs": [
    {
     "data": {
      "text/plain": [
       "int"
      ]
     },
     "execution_count": 2,
     "metadata": {},
     "output_type": "execute_result"
    }
   ],
   "source": [
    "# check its datatype\n",
    "\n",
    "type(x) "
   ]
  },
  {
   "cell_type": "code",
   "execution_count": 3,
   "metadata": {},
   "outputs": [
    {
     "name": "stdout",
     "output_type": "stream",
     "text": [
      "<class 'int'>\n",
      "<class 'float'>\n",
      "<class 'str'>\n",
      "<class 'bool'>\n"
     ]
    }
   ],
   "source": [
    "# check different datatypes\n",
    "\n",
    "print(type(5))\n",
    "print(type(5.0))\n",
    "print(type('five'))\n",
    "print(type(True))"
   ]
  },
  {
   "cell_type": "markdown",
   "metadata": {},
   "source": [
    "------\n",
    "# Lists"
   ]
  },
  {
   "cell_type": "code",
   "execution_count": 31,
   "metadata": {},
   "outputs": [],
   "source": [
    "# create a list with multiple data types and print the list\n",
    "# we cannot use 'list' as a variable, so we call it 'my_list'\n",
    "\n",
    "my_list = [5, 5.0, 'five', 6,7]"
   ]
  },
  {
   "cell_type": "code",
   "execution_count": 32,
   "metadata": {},
   "outputs": [
    {
     "data": {
      "text/plain": [
       "[5, 5.0, 'five', 6, 7]"
      ]
     },
     "execution_count": 32,
     "metadata": {},
     "output_type": "execute_result"
    }
   ],
   "source": [
    "my_list"
   ]
  },
  {
   "cell_type": "code",
   "execution_count": 33,
   "metadata": {},
   "outputs": [
    {
     "data": {
      "text/plain": [
       "list"
      ]
     },
     "execution_count": 33,
     "metadata": {},
     "output_type": "execute_result"
    }
   ],
   "source": [
    "# check the type: list\n",
    "\n",
    "type(my_list)"
   ]
  },
  {
   "cell_type": "code",
   "execution_count": 34,
   "metadata": {},
   "outputs": [
    {
     "data": {
      "text/plain": [
       "5"
      ]
     },
     "execution_count": 34,
     "metadata": {},
     "output_type": "execute_result"
    }
   ],
   "source": [
    "# check the length: 3\n",
    "\n",
    "len(my_list)"
   ]
  },
  {
   "cell_type": "code",
   "execution_count": 35,
   "metadata": {},
   "outputs": [
    {
     "data": {
      "text/plain": [
       "5"
      ]
     },
     "execution_count": 35,
     "metadata": {},
     "output_type": "execute_result"
    }
   ],
   "source": [
    "# print first element in the list\n",
    "\n",
    "my_list[0]"
   ]
  },
  {
   "cell_type": "code",
   "execution_count": 36,
   "metadata": {
    "scrolled": true
   },
   "outputs": [
    {
     "data": {
      "text/plain": [
       "str"
      ]
     },
     "execution_count": 36,
     "metadata": {},
     "output_type": "execute_result"
    }
   ],
   "source": [
    "# what if we wanted to know the datatype of the third value in our list? \n",
    "\n",
    "type(my_list[2])"
   ]
  },
  {
   "cell_type": "code",
   "execution_count": 9,
   "metadata": {},
   "outputs": [
    {
     "data": {
      "text/plain": [
       "[8, 5.0, 'five', 6, 7]"
      ]
     },
     "execution_count": 9,
     "metadata": {},
     "output_type": "execute_result"
    }
   ],
   "source": [
    "# replace a list element\n",
    "\n",
    "my_list[0] = 8\n",
    "my_list"
   ]
  },
  {
   "cell_type": "code",
   "execution_count": 10,
   "metadata": {},
   "outputs": [
    {
     "data": {
      "text/plain": [
       "[8, 5.0, 'five', 6, 7, 9]"
      ]
     },
     "execution_count": 10,
     "metadata": {},
     "output_type": "execute_result"
    }
   ],
   "source": [
    "# use a list 'method' that adds a new value to the list\n",
    "# you can see a list of methods for list by using the tab button\n",
    "\n",
    "my_list.append(9)\n",
    "my_list"
   ]
  },
  {
   "cell_type": "code",
   "execution_count": 11,
   "metadata": {},
   "outputs": [
    {
     "name": "stdout",
     "output_type": "stream",
     "text": [
      "Help on built-in function append:\n",
      "\n",
      "append(object, /) method of builtins.list instance\n",
      "    Append object to the end of the list.\n",
      "\n"
     ]
    }
   ],
   "source": [
    "# get help on this method - better yet, use shift + tab\n",
    "\n",
    "help(my_list.append)"
   ]
  },
  {
   "cell_type": "code",
   "execution_count": 12,
   "metadata": {},
   "outputs": [
    {
     "data": {
      "text/plain": [
       "[8, 5.0, 6, 7, 9]"
      ]
     },
     "execution_count": 12,
     "metadata": {},
     "output_type": "execute_result"
    }
   ],
   "source": [
    "# remove the string entry from the list\n",
    "\n",
    "my_list.remove('five')\n",
    "my_list"
   ]
  },
  {
   "cell_type": "code",
   "execution_count": 16,
   "metadata": {},
   "outputs": [
    {
     "data": {
      "text/plain": [
       "[9, 8, 7, 6, 5.0]"
      ]
     },
     "execution_count": 16,
     "metadata": {},
     "output_type": "execute_result"
    }
   ],
   "source": [
    "# sort the list, then in reverse, then overwrite your object with the newly sorted list\n",
    "\n",
    "my_list = sorted(my_list, reverse=True)\n",
    "my_list"
   ]
  },
  {
   "cell_type": "markdown",
   "metadata": {},
   "source": [
    "### Slicing\n",
    "Remember Python is zero-indexed"
   ]
  },
  {
   "cell_type": "code",
   "execution_count": 14,
   "metadata": {},
   "outputs": [
    {
     "data": {
      "text/plain": [
       "9"
      ]
     },
     "execution_count": 14,
     "metadata": {},
     "output_type": "execute_result"
    }
   ],
   "source": [
    "# return te first item in your list\n",
    "\n",
    "my_list[0]"
   ]
  },
  {
   "cell_type": "code",
   "execution_count": 17,
   "metadata": {},
   "outputs": [
    {
     "data": {
      "text/plain": [
       "[8, 7, 6]"
      ]
     },
     "execution_count": 17,
     "metadata": {},
     "output_type": "execute_result"
    }
   ],
   "source": [
    "# return the second to fourth item in your list (including the fourth item)\n",
    "# note: slicing is inclusive of first index but exclusive of second\n",
    "\n",
    "my_list[1:4]"
   ]
  },
  {
   "cell_type": "code",
   "execution_count": 18,
   "metadata": {},
   "outputs": [
    {
     "data": {
      "text/plain": [
       "5.0"
      ]
     },
     "execution_count": 18,
     "metadata": {},
     "output_type": "execute_result"
    }
   ],
   "source": [
    "# return the last element in the list\n",
    "my_list[-1]"
   ]
  },
  {
   "cell_type": "markdown",
   "metadata": {},
   "source": [
    "### Appending"
   ]
  },
  {
   "cell_type": "code",
   "execution_count": 21,
   "metadata": {},
   "outputs": [
    {
     "ename": "IndexError",
     "evalue": "list assignment index out of range",
     "output_type": "error",
     "traceback": [
      "\u001b[0;31m\u001b[0m",
      "\u001b[0;31mIndexError\u001b[0mTraceback (most recent call last)",
      "\u001b[0;32m<ipython-input-21-1c675eee922a>\u001b[0m in \u001b[0;36m<module>\u001b[0;34m\u001b[0m\n\u001b[0;32m----> 1\u001b[0;31m \u001b[0mmy_list\u001b[0m\u001b[0;34m[\u001b[0m\u001b[0;36m6\u001b[0m\u001b[0;34m]\u001b[0m \u001b[0;34m=\u001b[0m \u001b[0;36m10\u001b[0m\u001b[0;34m\u001b[0m\u001b[0;34m\u001b[0m\u001b[0m\n\u001b[0m",
      "\u001b[0;31mIndexError\u001b[0m: list assignment index out of range"
     ]
    }
   ],
   "source": [
    "my_list[6] = 10 # error because you can't assign outside the existing range"
   ]
  },
  {
   "cell_type": "code",
   "execution_count": 24,
   "metadata": {},
   "outputs": [
    {
     "data": {
      "text/plain": [
       "[9, 8, 7, 6, 5.0, 4, 4]"
      ]
     },
     "execution_count": 24,
     "metadata": {},
     "output_type": "execute_result"
    }
   ],
   "source": [
    "my_list.append(4)\n",
    "my_list"
   ]
  },
  {
   "cell_type": "code",
   "execution_count": 26,
   "metadata": {},
   "outputs": [
    {
     "data": {
      "text/plain": [
       "[9, 8, 7, 6, 5.0, 4, 4, 3, 3]"
      ]
     },
     "execution_count": 26,
     "metadata": {},
     "output_type": "execute_result"
    }
   ],
   "source": [
    "my_list = my_list + [3] # can only concatenate list (not \"int\") to list\n",
    "my_list"
   ]
  },
  {
   "cell_type": "markdown",
   "metadata": {},
   "source": [
    "### Exercise\n",
    "1. Create a list of the first names of your team members.\n",
    "2. Print the name of the last person in the list.\n",
    "3. Print the length of the name of the first person in the list.\n",
    "4. Change one of the names from their real name to their nickname.\n",
    "5. Append a new person to the list.\n",
    "6. Change the name of the new person to lowercase using the string method 'lower'.\n",
    "7. Sort the list in reverse alphabetical order.\n",
    "\n",
    "Bonus: Sort the list by the length of the names (shortest to longest)."
   ]
  },
  {
   "cell_type": "code",
   "execution_count": 39,
   "metadata": {},
   "outputs": [],
   "source": [
    "team = ['Mark', 'Sajith', 'Kerry', 'Evelin', 'Jason', 'Josephine', 'Kristi', 'Ashot']"
   ]
  },
  {
   "cell_type": "code",
   "execution_count": 41,
   "metadata": {},
   "outputs": [
    {
     "data": {
      "text/plain": [
       "'Ashot'"
      ]
     },
     "execution_count": 41,
     "metadata": {},
     "output_type": "execute_result"
    }
   ],
   "source": [
    "team[-1]"
   ]
  },
  {
   "cell_type": "code",
   "execution_count": 42,
   "metadata": {},
   "outputs": [
    {
     "data": {
      "text/plain": [
       "4"
      ]
     },
     "execution_count": 42,
     "metadata": {},
     "output_type": "execute_result"
    }
   ],
   "source": [
    "len(team[0])"
   ]
  },
  {
   "cell_type": "code",
   "execution_count": 44,
   "metadata": {},
   "outputs": [
    {
     "data": {
      "text/plain": [
       "['Mark', 'Sajith', 'Kerry', 'Evilen', 'Jason', 'Josephine', 'Kristi', 'Ashot']"
      ]
     },
     "execution_count": 44,
     "metadata": {},
     "output_type": "execute_result"
    }
   ],
   "source": [
    "team[3] = 'Evilen'\n",
    "team"
   ]
  },
  {
   "cell_type": "code",
   "execution_count": 46,
   "metadata": {},
   "outputs": [
    {
     "data": {
      "text/plain": [
       "['Mark',\n",
       " 'Sajith',\n",
       " 'Kerry',\n",
       " 'Evilen',\n",
       " 'Jason',\n",
       " 'Josephine',\n",
       " 'Kristi',\n",
       " 'Ashot',\n",
       " 'Micky Mouse',\n",
       " 'Micky Mouse']"
      ]
     },
     "execution_count": 46,
     "metadata": {},
     "output_type": "execute_result"
    }
   ],
   "source": [
    "team.append('Micky Mouse')\n",
    "team"
   ]
  },
  {
   "cell_type": "code",
   "execution_count": 47,
   "metadata": {},
   "outputs": [
    {
     "data": {
      "text/plain": [
       "['Mark',\n",
       " 'Sajith',\n",
       " 'Kerry',\n",
       " 'Evilen',\n",
       " 'Jason',\n",
       " 'Josephine',\n",
       " 'Kristi',\n",
       " 'Ashot',\n",
       " 'Micky Mouse',\n",
       " 'micky mouse']"
      ]
     },
     "execution_count": 47,
     "metadata": {},
     "output_type": "execute_result"
    }
   ],
   "source": [
    "team[-1] = team[-1].lower()\n",
    "team"
   ]
  },
  {
   "cell_type": "code",
   "execution_count": 48,
   "metadata": {},
   "outputs": [
    {
     "data": {
      "text/plain": [
       "['micky mouse',\n",
       " 'Sajith',\n",
       " 'Micky Mouse',\n",
       " 'Mark',\n",
       " 'Kristi',\n",
       " 'Kerry',\n",
       " 'Josephine',\n",
       " 'Jason',\n",
       " 'Evilen',\n",
       " 'Ashot']"
      ]
     },
     "execution_count": 48,
     "metadata": {},
     "output_type": "execute_result"
    }
   ],
   "source": [
    "sorted(team, reverse=True)"
   ]
  },
  {
   "cell_type": "code",
   "execution_count": 49,
   "metadata": {},
   "outputs": [
    {
     "data": {
      "text/plain": [
       "['Mark',\n",
       " 'Kerry',\n",
       " 'Jason',\n",
       " 'Ashot',\n",
       " 'Sajith',\n",
       " 'Evilen',\n",
       " 'Kristi',\n",
       " 'Josephine',\n",
       " 'Micky Mouse',\n",
       " 'micky mouse']"
      ]
     },
     "execution_count": 49,
     "metadata": {},
     "output_type": "execute_result"
    }
   ],
   "source": [
    "sorted(team, key=len)"
   ]
  },
  {
   "cell_type": "markdown",
   "metadata": {},
   "source": [
    "------\n",
    "# Functions\n",
    "* if, elif, else\n",
    "* for loops\n",
    "* list comprehensions"
   ]
  },
  {
   "cell_type": "code",
   "execution_count": 21,
   "metadata": {},
   "outputs": [],
   "source": [
    "# define a function\n",
    "\n",
    "def my_function(some_variable):\n",
    "    return some_variable * 2 "
   ]
  },
  {
   "cell_type": "code",
   "execution_count": 23,
   "metadata": {},
   "outputs": [
    {
     "data": {
      "text/plain": [
       "24"
      ]
     },
     "execution_count": 23,
     "metadata": {},
     "output_type": "execute_result"
    }
   ],
   "source": [
    "# use the function, notice it only prints the result but it is not saved in memory\n",
    "\n",
    "my_function(12)"
   ]
  },
  {
   "cell_type": "code",
   "execution_count": 24,
   "metadata": {},
   "outputs": [],
   "source": [
    "# assign the result to an object, notice it doesn't print it\n",
    "\n",
    "results = my_function(12)"
   ]
  },
  {
   "cell_type": "code",
   "execution_count": 25,
   "metadata": {},
   "outputs": [],
   "source": [
    "# write a function using if elif else\n",
    "\n",
    "def simple_calculator(x, y, operation):\n",
    "    if operation == 'add':\n",
    "        return x + y\n",
    "    elif operation == 'subtract':\n",
    "        return x - y\n",
    "    else:\n",
    "        print(\"This function can only add or subtract!\")"
   ]
  },
  {
   "cell_type": "code",
   "execution_count": 27,
   "metadata": {},
   "outputs": [
    {
     "data": {
      "text/plain": [
       "13"
      ]
     },
     "execution_count": 27,
     "metadata": {},
     "output_type": "execute_result"
    }
   ],
   "source": [
    "simple_calculator(10,3, operation='add')"
   ]
  },
  {
   "cell_type": "code",
   "execution_count": 28,
   "metadata": {},
   "outputs": [
    {
     "data": {
      "text/plain": [
       "7"
      ]
     },
     "execution_count": 28,
     "metadata": {},
     "output_type": "execute_result"
    }
   ],
   "source": [
    "simple_calculator(10,3, operation='subtract')"
   ]
  },
  {
   "cell_type": "code",
   "execution_count": 30,
   "metadata": {},
   "outputs": [
    {
     "name": "stdout",
     "output_type": "stream",
     "text": [
      "This function can only add or subtract!\n"
     ]
    }
   ],
   "source": [
    "simple_calculator(10,3, operation='multiply')"
   ]
  },
  {
   "cell_type": "markdown",
   "metadata": {},
   "source": [
    "### Exercise\n",
    "Write a function that takes two parameters (hours and rate), and returns the total pay.\n",
    "* Hours = 40hrs/week\n",
    "* Rate = $90/hour"
   ]
  },
  {
   "cell_type": "code",
   "execution_count": 42,
   "metadata": {},
   "outputs": [],
   "source": [
    "def compute_pay(hours, rate):\n",
    "    return f\"Your weekly salary would be ${hours * rate}\""
   ]
  },
  {
   "cell_type": "code",
   "execution_count": 43,
   "metadata": {},
   "outputs": [
    {
     "data": {
      "text/plain": [
       "'Your weekly salary would be $3600'"
      ]
     },
     "execution_count": 43,
     "metadata": {},
     "output_type": "execute_result"
    }
   ],
   "source": [
    "compute_pay(40, 90)"
   ]
  },
  {
   "cell_type": "markdown",
   "metadata": {},
   "source": [
    "### Exercise\n",
    "Print each list element in uppercase\n",
    "\n",
    "`fruits = ['apple', 'banana', 'cherry']`"
   ]
  },
  {
   "cell_type": "code",
   "execution_count": 51,
   "metadata": {},
   "outputs": [
    {
     "name": "stdout",
     "output_type": "stream",
     "text": [
      "APPLE\n",
      "BANANA\n",
      "CHERRY\n"
     ]
    }
   ],
   "source": [
    "fruits = ['apple', 'banana', 'cherry']\n",
    "\n",
    "for fruit in fruits:\n",
    "    print(fruit.upper())"
   ]
  },
  {
   "cell_type": "code",
   "execution_count": 52,
   "metadata": {},
   "outputs": [
    {
     "data": {
      "text/plain": [
       "['APPLE', 'BANANA', 'CHERRY']"
      ]
     },
     "execution_count": 52,
     "metadata": {},
     "output_type": "execute_result"
    }
   ],
   "source": [
    "# Write it in a list comprehension\n",
    "\n",
    "[fruit.upper() for fruit in fruits]"
   ]
  },
  {
   "cell_type": "markdown",
   "metadata": {},
   "source": [
    "### Try the following on your own, then share :)\n",
    "```\n",
    "EXERCISE 1:\n",
    "Given that: letters = ['a', 'b', 'c']\n",
    "Write a list comprehension that returns: ['A', 'B', 'C']\n",
    "\n",
    "EXERCISE 2 (BONUS):\n",
    "Given that: word = 'abc'\n",
    "Write a list comprehension that returns: ['A', 'B', 'C']\n",
    "\n",
    "EXERCISE 3 (BONUS):\n",
    "Given that: fruits = ['Apple', 'Banana', 'Cherry']\n",
    "Write a list comprehension that returns: ['A', 'B', 'C']\n",
    "```"
   ]
  },
  {
   "cell_type": "code",
   "execution_count": 54,
   "metadata": {},
   "outputs": [
    {
     "data": {
      "text/plain": [
       "['A', 'B', 'C']"
      ]
     },
     "execution_count": 54,
     "metadata": {},
     "output_type": "execute_result"
    }
   ],
   "source": [
    "letters = ['a', 'b', 'c']\n",
    "[letter.upper() for letter in letters]  # iterate through a list of strings,\n",
    "                                        # and each string has an 'upper' method"
   ]
  },
  {
   "cell_type": "code",
   "execution_count": 55,
   "metadata": {},
   "outputs": [
    {
     "data": {
      "text/plain": [
       "['A', 'B', 'C']"
      ]
     },
     "execution_count": 55,
     "metadata": {},
     "output_type": "execute_result"
    }
   ],
   "source": [
    "word = 'abc'\n",
    "[letter.upper() for letter in word]     # iterate through each character"
   ]
  },
  {
   "cell_type": "code",
   "execution_count": 56,
   "metadata": {},
   "outputs": [
    {
     "data": {
      "text/plain": [
       "['A', 'B', 'C']"
      ]
     },
     "execution_count": 56,
     "metadata": {},
     "output_type": "execute_result"
    }
   ],
   "source": [
    "fruits = ['Apple', 'Banana', 'Cherry']\n",
    "[fruit[0] for fruit in fruits]          # slice the first character from each string"
   ]
  },
  {
   "cell_type": "markdown",
   "metadata": {},
   "source": [
    "------\n",
    "# Dictionaries"
   ]
  },
  {
   "cell_type": "code",
   "execution_count": 57,
   "metadata": {},
   "outputs": [],
   "source": [
    "family = {'dad':'Homer', 'mom':'Marge', 'size':2}"
   ]
  },
  {
   "cell_type": "code",
   "execution_count": 58,
   "metadata": {},
   "outputs": [
    {
     "data": {
      "text/plain": [
       "3"
      ]
     },
     "execution_count": 58,
     "metadata": {},
     "output_type": "execute_result"
    }
   ],
   "source": [
    "# check the length\n",
    "\n",
    "len(family)         # returns 3 (number of key-value pairs)"
   ]
  },
  {
   "cell_type": "code",
   "execution_count": 59,
   "metadata": {},
   "outputs": [
    {
     "data": {
      "text/plain": [
       "'Homer'"
      ]
     },
     "execution_count": 59,
     "metadata": {},
     "output_type": "execute_result"
    }
   ],
   "source": [
    "# use the key to look up a value (fast operation regardless of dictionary size)\n",
    "\n",
    "family['dad']       # returns 'Homer'"
   ]
  },
  {
   "cell_type": "code",
   "execution_count": 61,
   "metadata": {},
   "outputs": [
    {
     "ename": "KeyError",
     "evalue": "'Homer'",
     "output_type": "error",
     "traceback": [
      "\u001b[0;31m\u001b[0m",
      "\u001b[0;31mKeyError\u001b[0mTraceback (most recent call last)",
      "\u001b[0;32m<ipython-input-61-46265e26c522>\u001b[0m in \u001b[0;36m<module>\u001b[0;34m\u001b[0m\n\u001b[1;32m      1\u001b[0m \u001b[0;31m# can't use a value to look up a key, and dictionaries are unordered\u001b[0m\u001b[0;34m\u001b[0m\u001b[0;34m\u001b[0m\u001b[0;34m\u001b[0m\u001b[0m\n\u001b[1;32m      2\u001b[0m \u001b[0;34m\u001b[0m\u001b[0m\n\u001b[0;32m----> 3\u001b[0;31m \u001b[0mfamily\u001b[0m\u001b[0;34m[\u001b[0m\u001b[0;34m'Homer'\u001b[0m\u001b[0;34m]\u001b[0m     \u001b[0;31m# error\u001b[0m\u001b[0;34m\u001b[0m\u001b[0;34m\u001b[0m\u001b[0m\n\u001b[0m\u001b[1;32m      4\u001b[0m \u001b[0mfamily\u001b[0m\u001b[0;34m[\u001b[0m\u001b[0;36m0\u001b[0m\u001b[0;34m]\u001b[0m           \u001b[0;31m# error\u001b[0m\u001b[0;34m\u001b[0m\u001b[0;34m\u001b[0m\u001b[0m\n",
      "\u001b[0;31mKeyError\u001b[0m: 'Homer'"
     ]
    }
   ],
   "source": [
    "# can't use a value to look up a key, and dictionaries are unordered\n",
    "\n",
    "family['Homer']     # error\n",
    "family[0]           # error"
   ]
  },
  {
   "cell_type": "code",
   "execution_count": 62,
   "metadata": {},
   "outputs": [],
   "source": [
    "# add a new entry\n",
    "\n",
    "family['cat'] = 'snowball'"
   ]
  },
  {
   "cell_type": "code",
   "execution_count": null,
   "metadata": {},
   "outputs": [],
   "source": [
    "# keys must be unique, so this edits an existing entry\n",
    "\n",
    "family['cat'] = 'snowball ii'"
   ]
  },
  {
   "cell_type": "code",
   "execution_count": 63,
   "metadata": {},
   "outputs": [],
   "source": [
    "# delete an entry\n",
    "\n",
    "del family['cat']"
   ]
  },
  {
   "cell_type": "code",
   "execution_count": 64,
   "metadata": {},
   "outputs": [],
   "source": [
    "# keys can be strings or numbers or tuples, values can be any type\n",
    "\n",
    "family['kids'] = ['bart', 'lisa']   # value can be a list"
   ]
  },
  {
   "cell_type": "code",
   "execution_count": 65,
   "metadata": {},
   "outputs": [
    {
     "data": {
      "text/plain": [
       "'bart'"
      ]
     },
     "execution_count": 65,
     "metadata": {},
     "output_type": "execute_result"
    }
   ],
   "source": [
    "# accessing a list element within a dictionary\n",
    "\n",
    "family['kids'][0]   # returns 'bart'"
   ]
  },
  {
   "cell_type": "code",
   "execution_count": 69,
   "metadata": {},
   "outputs": [
    {
     "name": "stdout",
     "output_type": "stream",
     "text": [
      "dict_keys(['dad', 'mom', 'size', 'kids'])\n",
      "dict_values(['Homer', 'Marge', 2, ['bart', 'lisa']])\n",
      "dict_items([('dad', 'Homer'), ('mom', 'Marge'), ('size', 2), ('kids', ['bart', 'lisa'])])\n"
     ]
    }
   ],
   "source": [
    "# explore useful methods for dictionaries\n",
    "\n",
    "print(family.keys())\n",
    "print(family.values())\n",
    "print(family.items() )"
   ]
  },
  {
   "cell_type": "markdown",
   "metadata": {},
   "source": [
    "### Exercise\n",
    "1. Print the name of the mom.\n",
    "2. Change the size to 5.\n",
    "3. Add 'Maggie' to the list of kids.\n",
    "4. Fix 'bart' and 'lisa' so that the first letter is capitalized.\n",
    "\n",
    "Bonus: Do this last step using a list comprehension."
   ]
  },
  {
   "cell_type": "code",
   "execution_count": 70,
   "metadata": {},
   "outputs": [
    {
     "data": {
      "text/plain": [
       "'Marge'"
      ]
     },
     "execution_count": 70,
     "metadata": {},
     "output_type": "execute_result"
    }
   ],
   "source": [
    "family['mom']                       # returns 'Marge'"
   ]
  },
  {
   "cell_type": "code",
   "execution_count": 71,
   "metadata": {},
   "outputs": [],
   "source": [
    "family['size'] = 5                  # replaces existing value for 'size'"
   ]
  },
  {
   "cell_type": "code",
   "execution_count": 72,
   "metadata": {},
   "outputs": [],
   "source": [
    "family['kids'].append('Maggie')     # access a list, then append 'Maggie' to it"
   ]
  },
  {
   "cell_type": "code",
   "execution_count": 74,
   "metadata": {},
   "outputs": [],
   "source": [
    "family['kids'][0] = 'Bart'          # capitalize names by overwriting them\n",
    "family['kids'][1] = 'Lisa'"
   ]
  },
  {
   "cell_type": "code",
   "execution_count": 75,
   "metadata": {},
   "outputs": [],
   "source": [
    "# or, capitalize using a list comprehension and the 'capitalize' string method\n",
    "\n",
    "family['kids'] = [kid.capitalize() for kid in family['kids']]"
   ]
  },
  {
   "cell_type": "code",
   "execution_count": null,
   "metadata": {},
   "outputs": [],
   "source": []
  },
  {
   "cell_type": "markdown",
   "metadata": {},
   "source": [
    "# APIs\n",
    "\n",
    "1. Get API key at https://www.omdbapi.com/apikey.aspx\n",
    "2. Paste your key in a text file called `omdb-api-key.txt` (and add the file to `.gitignore` so your key doesn't get pushed to a repository) \n",
    "2. Test it out by pasting the following in your browser: `https://www.omdbapi.com/?apikey=[your key]&t=moana`"
   ]
  },
  {
   "cell_type": "code",
   "execution_count": 81,
   "metadata": {},
   "outputs": [],
   "source": [
    "# use requests to talk to the web\n",
    "\n",
    "import requests"
   ]
  },
  {
   "cell_type": "markdown",
   "metadata": {},
   "source": [
    "First, set up your API key in a secure way"
   ]
  },
  {
   "cell_type": "code",
   "execution_count": 89,
   "metadata": {},
   "outputs": [],
   "source": [
    "# create a function, get_api_key(), \n",
    "# which reads your API key from your omdb-api-key.txt file and returns the clean key\n",
    "\n",
    "def get_api_key():\n",
    "    f = open('../work/omdb-api-key.txt','r')\n",
    "    my_key = f.read().strip()\n",
    "    return my_key\n",
    "    f.close()"
   ]
  },
  {
   "cell_type": "code",
   "execution_count": 90,
   "metadata": {},
   "outputs": [
    {
     "data": {
      "text/plain": [
       "'d0cbfefb'"
      ]
     },
     "execution_count": 90,
     "metadata": {},
     "output_type": "execute_result"
    }
   ],
   "source": [
    "apikey = get_api_key()\n",
    "apikey"
   ]
  },
  {
   "cell_type": "code",
   "execution_count": 91,
   "metadata": {},
   "outputs": [
    {
     "name": "stdout",
     "output_type": "stream",
     "text": [
      "d0cbfefb\n"
     ]
    }
   ],
   "source": [
    "print(get_api_key())"
   ]
  },
  {
   "cell_type": "markdown",
   "metadata": {},
   "source": [
    "Next, construct the URL and search for data for the movie \"blade\""
   ]
  },
  {
   "cell_type": "code",
   "execution_count": 92,
   "metadata": {},
   "outputs": [
    {
     "name": "stdout",
     "output_type": "stream",
     "text": [
      "http://www.omdbapi.com/?&apikey=d0cbfefb&t=blade\n"
     ]
    }
   ],
   "source": [
    "base_url = 'http://www.omdbapi.com/?'\n",
    "apikey = '&apikey='+get_api_key()\n",
    "search_term = '&t=blade'\n",
    "\n",
    "url = base_url+apikey+search_term\n",
    "print(url)"
   ]
  },
  {
   "cell_type": "code",
   "execution_count": 94,
   "metadata": {},
   "outputs": [
    {
     "data": {
      "text/plain": [
       "{'Title': 'Blade',\n",
       " 'Year': '1998',\n",
       " 'Rated': 'R',\n",
       " 'Released': '21 Aug 1998',\n",
       " 'Runtime': '120 min',\n",
       " 'Genre': 'Action, Horror, Sci-Fi',\n",
       " 'Director': 'Stephen Norrington',\n",
       " 'Writer': 'David S. Goyer',\n",
       " 'Actors': \"Wesley Snipes, Stephen Dorff, Kris Kristofferson, N'Bushe Wright\",\n",
       " 'Plot': 'A half-vampire, half-mortal man becomes a protector of the mortal race, while slaying evil vampires.',\n",
       " 'Language': 'English, Russian, Serbian',\n",
       " 'Country': 'USA',\n",
       " 'Awards': '4 wins & 8 nominations.',\n",
       " 'Poster': 'https://m.media-amazon.com/images/M/MV5BMTQ4MzkzNjcxNV5BMl5BanBnXkFtZTcwNzk4NTU0Mg@@._V1_SX300.jpg',\n",
       " 'Ratings': [{'Source': 'Internet Movie Database', 'Value': '7.1/10'},\n",
       "  {'Source': 'Rotten Tomatoes', 'Value': '54%'},\n",
       "  {'Source': 'Metacritic', 'Value': '45/100'}],\n",
       " 'Metascore': '45',\n",
       " 'imdbRating': '7.1',\n",
       " 'imdbVotes': '226,061',\n",
       " 'imdbID': 'tt0120611',\n",
       " 'Type': 'movie',\n",
       " 'DVD': '22 Dec 1998',\n",
       " 'BoxOffice': 'N/A',\n",
       " 'Production': 'New Line Cinema',\n",
       " 'Website': 'N/A',\n",
       " 'Response': 'True'}"
      ]
     },
     "execution_count": 94,
     "metadata": {},
     "output_type": "execute_result"
    }
   ],
   "source": [
    "result = requests.request('GET',url).json()\n",
    "result"
   ]
  },
  {
   "cell_type": "code",
   "execution_count": 95,
   "metadata": {},
   "outputs": [],
   "source": [
    "def list_search_results(search_term):\n",
    "    \"\"\"\n",
    "    Search the OMDB API using the 's=' functionality and prints out \n",
    "    the titles present in the search results.\n",
    "    Parameters:\n",
    "    * s: str, search term.\n",
    "    \"\"\"\n",
    "    url = 'http://www.omdbapi.com/?&apikey='+get_api_key()+'&s='+search_term\n",
    "    result = requests.request('GET',url).json()\n",
    "    print(\"Your search term (\", search_term, \") is in the following movies:\", sep='')\n",
    "    for movie_object in result['Search']:\n",
    "        print(movie_object['Title'])"
   ]
  },
  {
   "cell_type": "code",
   "execution_count": 97,
   "metadata": {},
   "outputs": [
    {
     "name": "stdout",
     "output_type": "stream",
     "text": [
      "Your search term (blade) is in the following movies:\n",
      "Blade Runner\n",
      "Blade Runner 2049\n",
      "Blade\n",
      "Blade II\n",
      "Blade: Trinity\n",
      "Sling Blade\n",
      "Dragon Blade\n",
      "Blade of the Immortal\n",
      "Shinobi: Heart Under Blade\n",
      "Blade Runner: Black Out 2022\n"
     ]
    }
   ],
   "source": [
    "list_search_results('blade')"
   ]
  }
 ],
 "metadata": {
  "kernelspec": {
   "display_name": "Python 3",
   "language": "python",
   "name": "python3"
  },
  "language_info": {
   "codemirror_mode": {
    "name": "ipython",
    "version": 3
   },
   "file_extension": ".py",
   "mimetype": "text/x-python",
   "name": "python",
   "nbconvert_exporter": "python",
   "pygments_lexer": "ipython3",
   "version": "3.7.1"
  }
 },
 "nbformat": 4,
 "nbformat_minor": 2
}
