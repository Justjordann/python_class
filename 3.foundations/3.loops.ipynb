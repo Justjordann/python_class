{
 "cells": [
  {
   "cell_type": "markdown",
   "metadata": {
    "slideshow": {
     "slide_type": "slide"
    }
   },
   "source": [
    "## Lesson Objectives\n",
    "*After this lesson, you will be able to...*\n",
    "\n",
    "- Create lists in Python.\n",
    "- Print out specific elements in a list.\n",
    "- Perform common list operations.\n",
    "- Loop through lists to perform some action(s)"
   ]
  },
  {
   "cell_type": "markdown",
   "metadata": {
    "slideshow": {
     "slide_type": "slide"
    }
   },
   "source": [
    "## What is a List?\n",
    "\n",
    "Variables hold one item.\n",
    "\n",
    "```python\n",
    "my_color = \"red\"\n",
    "my_peer = \"Brandi\"\n",
    "```\n",
    "\n",
    "**Lists** hold multiple items - and lists can hold anything.\n",
    "\n",
    "```python\n",
    "# Declaring lists\n",
    "colors = [\"red\", \"yellow\", \"green\"]\n",
    "my_class = [\"Brandi\", \"Zoe\", \"Steve\", \"Aleksander\", \"Dasha\"]\n",
    "\n",
    "# Strings\n",
    "colors = [\"red\", \"yellow\", \"green\"]\n",
    "\n",
    "# Numbers\n",
    "my_nums = [4, 7, 9, 1, 4]\n",
    "\n",
    "# Both!\n",
    "my_nums = [\"red\", 7, \"yellow\", 1, 4]\n",
    "```"
   ]
  },
  {
   "cell_type": "markdown",
   "metadata": {
    "slideshow": {
     "slide_type": "slide"
    }
   },
   "source": [
    "## Accessing Elements\n",
    "\n",
    "\n",
    "**List Index** means the location of something (an *element*) in the list.\n",
    "\n",
    "List indexes start counting at 0!\n",
    "\n",
    "|  List | \"Brandi\" | \"Zoe\" | \"Steve\" | \"Aleksander\" | \"Dasha\" |\n",
    "|:-----:|:--------:|:-----:|:-------:|:------:|:------:|\n",
    "| Index |     0    |   1   |    2    |    3   |    4   |\n",
    "\n",
    "\n",
    "```python\n",
    "my_class = [\"Brandi\", \"Zoe\", \"Steve\", \"Aleksander\", \"Dasha\"]\n",
    "print(my_class[0]) # Prints \"Brandi\"\n",
    "print(my_class[1]) # Prints \"Zoe\"\n",
    "print(my_class[4]) # Prints \"Dasha\"\n",
    "```"
   ]
  },
  {
   "cell_type": "markdown",
   "metadata": {
    "slideshow": {
     "slide_type": "slide"
    }
   },
   "source": [
    "## We Do: Lists\n",
    "\n",
    "1. Create a **list** with the names `\"Holly\"`, `\"Juan\"`, and `\"Ming\"`.\n",
    "2. Print the third name.\n",
    "3. Create a **list** with the numbers `2`,`4`, `6`, and `8`.\n",
    "4. Print the first number."
   ]
  },
  {
   "cell_type": "code",
   "execution_count": 1,
   "metadata": {
    "slideshow": {
     "slide_type": "fragment"
    }
   },
   "outputs": [],
   "source": [
    "#"
   ]
  },
  {
   "cell_type": "markdown",
   "metadata": {
    "slideshow": {
     "slide_type": "slide"
    }
   },
   "source": [
    "## List Operations - Length\n",
    "\n",
    "\n",
    "`len()`:\n",
    "\n",
    "- A built in `list` operation.\n",
    "- How long is the list?\n",
    "\n",
    "```python\n",
    "# length_variable = len(your_list)\n",
    "\n",
    "my_class = [\"Brandi\", \"Zoe\", \"Steve\", \"Aleksander\", \"Dasha\"]\n",
    "num_students = len(my_class)\n",
    "print(\"There are\", num_students, \"students in the class\")\n",
    "# => 5\n",
    "```\n"
   ]
  },
  {
   "cell_type": "markdown",
   "metadata": {
    "slideshow": {
     "slide_type": "slide"
    }
   },
   "source": [
    "## Adding Elements: Append\n",
    "\n",
    "`.append()`:\n",
    "\n",
    "- A built in `list` operation.\n",
    "- Adds to the end of the list.\n",
    "- Takes any element.\n",
    "\n",
    "```python\n",
    "# your_list.append(item)\n",
    "\n",
    "my_class = [\"Brandi\", \"Zoe\", \"Steve\", \"Aleksander\", \"Dasha\"]\n",
    "my_class.append(\"Sonyl\")\n",
    "print(my_class)\n",
    "# => [\"Brandi\", \"Zoe\", \"Steve\", \"Aleksander\", \"Dasha\", \"Sonyl\"]\n",
    "```"
   ]
  },
  {
   "cell_type": "markdown",
   "metadata": {
    "slideshow": {
     "slide_type": "slide"
    }
   },
   "source": [
    "## Quick Review: Basic List Operations\n",
    "\n",
    "```python\n",
    "# List Creation\n",
    "my_list = [\"red\", 7, \"yellow\", 1]\n",
    "\n",
    "# List Length\n",
    "list_length = len(my_list) # 4\n",
    "\n",
    "# List Index\n",
    "print(my_list[0]) # red\n",
    "\n",
    "# List Append\n",
    "my_list.append(\"Yi\") # [\"red\", 7, \"yellow\", 1, \"Yi\"]\n",
    "```"
   ]
  },
  {
   "cell_type": "markdown",
   "metadata": {
    "slideshow": {
     "slide_type": "slide"
    }
   },
   "source": [
    "## Numerical List Operations - Sum\n",
    "\n",
    "Some actions can only be performed on lists with numbers.\n",
    "\n",
    "`sum()`:\n",
    "\n",
    "- A built in `list` operation.\n",
    "- Adds the list together.\n",
    "- Only works on lists with numbers!\n",
    "\n",
    "```python\n",
    "# sum(your_numeric_list)\n",
    "\n",
    "team_batting_avgs = [.328, .299, .208, .301, .275, .226, .253, .232, .287]\n",
    "sum_avgs = sum(team_batting_avgs)\n",
    "print(\"The total of all the batting averages is\", sum_avgs)\n",
    "# => 2.409\n",
    "```"
   ]
  },
  {
   "cell_type": "markdown",
   "metadata": {
    "slideshow": {
     "slide_type": "slide"
    }
   },
   "source": [
    "## Numerical List Operations - Max/Min\n",
    "\n",
    "\n",
    "`max()` or `min()`:\n",
    "\n",
    "- Built in `list` operations.\n",
    "- Finds highest, or lowest, in the list.\n",
    "\n",
    "```python\n",
    "# max(your_numeric_list)\n",
    "# min(your_numeric_list)\n",
    "\n",
    "team_batting_avgs = [.328, .299, .208, .301, .275, .226, .253, .232, .287]\n",
    "print(\"The highest batting average is\", max(team_batting_avgs))\n",
    "# => 0.328\n",
    "print(\"The lowest batting average is\", min(team_batting_avgs))\n",
    "# => 0.208\n",
    "```\n"
   ]
  },
  {
   "cell_type": "markdown",
   "metadata": {
    "slideshow": {
     "slide_type": "slide"
    }
   },
   "source": [
    "## You Do: Lists\n",
    "\n",
    "1. Save a list with the numbers `2`, `4`, `6`, and `8` into a variable called `numbers`.\n",
    "2. Print the max of `numbers`.\n",
    "3. Append `3` to `numbers`.\n",
    "4. Print out the average number (divide the sum of `numbers` by the length).\n",
    "5. Print `numbers`."
   ]
  },
  {
   "cell_type": "markdown",
   "metadata": {
    "slideshow": {
     "slide_type": "slide"
    }
   },
   "source": [
    "## Quick Review: Numerical List Operations\n",
    "\n",
    "```python\n",
    "# Sum all numbers in list\n",
    "sum_avgs = sum(team_batting_avgs)\n",
    "# Find minimum value of list\n",
    "min(team_batting_avgs)\n",
    "# Find maximum value of list\n",
    "max(team_batting_avgs)\n",
    "```"
   ]
  },
  {
   "cell_type": "markdown",
   "metadata": {
    "slideshow": {
     "slide_type": "slide"
    }
   },
   "source": [
    "## Additional Resources\n",
    "\n",
    "- [Python Lists - Khan Academy Video](https://www.youtube.com/watch?v=zEyEC34MY1A)\n",
    "- [Google For Education: Python Lists](https://developers.google.com/edu/python/lists)\n",
    "- [Python-Lists](https://www.tutorialspoint.com/python/python_lists.htm)"
   ]
  },
  {
   "cell_type": "markdown",
   "metadata": {
    "slideshow": {
     "slide_type": "slide"
    }
   },
   "source": [
    "## Discussion: A Small List\n",
    "\n",
    "\n",
    "This situation isn't so bad:\n",
    "\n",
    "```python\n",
    "visible_colors = [\"red\", \"orange\", \"yellow\", \"green\", \"blue\", \"violet\"]\n",
    "print(visible_colors[0])\n",
    "print(visible_colors[1])\n",
    "print(visible_colors[2])\n",
    "print(visible_colors[3])\n",
    "print(visible_colors[4])\n",
    "print(visible_colors[5])\n",
    "```\n",
    "\n",
    "But what would we do if there were 1,000 items in the list to print?"
   ]
  },
  {
   "cell_type": "markdown",
   "metadata": {
    "slideshow": {
     "slide_type": "slide"
    }
   },
   "source": [
    "## The `for` Loop\n",
    "The `for` loop always follows this form:\n",
    "\n",
    "```python\n",
    "for item in collection:\n",
    "  # Do something with item\n",
    "```\n",
    "\n",
    "For example:\n",
    "\n",
    "```python\n",
    "visible_colors = [\"red\", \"orange\", \"yellow\", \"green\", \"blue\", \"violet\"]\n",
    "\n",
    "for each_color in visible_colors:\n",
    "  print(each_color)\n",
    "```\n"
   ]
  },
  {
   "cell_type": "markdown",
   "metadata": {
    "slideshow": {
     "slide_type": "slide"
    }
   },
   "source": [
    "## Knowledge Check: What will this code do?\n",
    "\n",
    "\n",
    "Think about what the code will do before you actually run it."
   ]
  },
  {
   "cell_type": "code",
   "execution_count": null,
   "metadata": {
    "slideshow": {
     "slide_type": "fragment"
    }
   },
   "outputs": [],
   "source": [
    "for name in [\"Tom\", \"Deborah\", \"Murray\", \"Axel\"]:\n",
    "    print(\"Now appearing in the Refreshment Room...\")  # in the loop\n",
    "    print(name)                                        # in the loop\n",
    "print(\"THUNDEROUS APPLAUSE!\")                      # OUTSIDE the loop"
   ]
  },
  {
   "cell_type": "markdown",
   "metadata": {
    "slideshow": {
     "slide_type": "slide"
    }
   },
   "source": [
    "## We Do: Writing a Loop\n",
    "\n",
    "Let's write a loop to print names of guests.\n",
    "\n",
    "First, we need a list.\n",
    "\n",
    "- Make your list: Declare a variable `my_list` and assign it to a list containing the names of at least five people.\n",
    "\n",
    "Now, we'll add the loop.\n",
    "\n",
    "- Skip a line and write the first line of your `for` loop.\n",
    "    - For the variable that holds each item, give it a name that reflects what the item is (e.g. `name` or `person`).\n",
    "- Inside your loop, add the code to print `\"Hello,\"` plus the name.\n",
    "\n",
    "```\n",
    "\"Hello, Felicia!\"\n",
    "\"Hello, Srinivas!\"\n",
    "```\n"
   ]
  },
  {
   "cell_type": "markdown",
   "metadata": {
    "slideshow": {
     "slide_type": "slide"
    }
   },
   "source": [
    "## We Do: Write a loop to greet people on your guest list\n",
    "\n",
    "Our guests are definitely VIPs! Let's give them a lavish two-line greeting.\n",
    "\n",
    "- Inside your loop, add the code to print another sentence of greeting:\n",
    "\n",
    "```\n",
    "\"Hello, Srinivas!\"\n",
    "\"Welcome to the party!\"\n",
    "```"
   ]
  },
  {
   "cell_type": "markdown",
   "metadata": {
    "slideshow": {
     "slide_type": "slide"
    }
   },
   "source": [
    "## Discussion: Where Else Could We Use a Loop?\n",
    "\n",
    "\n",
    "A loop prints everything in a collection of items.\n",
    "\n",
    "- `guest_list = ['Mark', 'Sajith', 'Kerry', 'Evelin', 'Jason', 'Josephine', 'Kristi', 'Ashot']`\n",
    "\n",
    "What, besides a list, could we use a loop on?\n",
    "\n",
    "*Hint: There are eight on this slide!*"
   ]
  },
  {
   "cell_type": "markdown",
   "metadata": {
    "slideshow": {
     "slide_type": "slide"
    }
   },
   "source": [
    "## Looping Strings\n",
    "\n",
    "Loops are collections of strings and numbers.\n",
    "\n",
    "Strings are collections of characters!"
   ]
  },
  {
   "cell_type": "code",
   "execution_count": null,
   "metadata": {
    "slideshow": {
     "slide_type": "fragment"
    }
   },
   "outputs": [],
   "source": [
    "my_string = \"Hello, world!\"\n",
    "\n",
    "for character in my_string:\n",
    "    print(character)"
   ]
  },
  {
   "cell_type": "markdown",
   "metadata": {
    "slideshow": {
     "slide_type": "subslide"
    }
   },
   "source": [
    "## What about...Looping For a Specific Number of Iterations?\n",
    "\n",
    "\n",
    "We have:\n",
    "```python\n",
    "guest_list = [\"Fred\", \"Cho\", \"Brandi\", \"Yuna\", \"Nanda\", \"Denise\"]\n",
    "\n",
    "for guest in guest_list:\n",
    "  print(\"Hello, \" + guest + \"!\")\n",
    "```\n",
    "\n",
    "The loop runs for every item in the list - the length of the collection. Here, it runs 6 times.\n",
    "\n",
    "What if we don't know how long `guest_list` will be?\n",
    "\n",
    "Or only want to loop some of it?"
   ]
  },
  {
   "cell_type": "markdown",
   "metadata": {
    "slideshow": {
     "slide_type": "subslide"
    }
   },
   "source": [
    "## Enter: Range\n",
    "\n",
    "\n",
    "`range(x)`:\n",
    "\n",
    "- Automatically generated.\n",
    "- A list that contains only integers.\n",
    "- Starts at zero.\n",
    "- Stops before the number you input.\n",
    "\n",
    "```python\n",
    "range(5)  # => [0, 1, 2, 3, 4]\n",
    "```\n"
   ]
  },
  {
   "cell_type": "markdown",
   "metadata": {
    "slideshow": {
     "slide_type": "subslide"
    }
   },
   "source": [
    "## Looping Over a Range\n",
    "\n",
    "Let's look at `range` in action:"
   ]
  },
  {
   "cell_type": "code",
   "execution_count": null,
   "metadata": {
    "slideshow": {
     "slide_type": "fragment"
    }
   },
   "outputs": [],
   "source": [
    "for i in range(10):\n",
    "    print(i)\n",
    "\n",
    "squares = []\n",
    "\n",
    "for num in range(5):\n",
    "    sqr = num ** 2\n",
    "    squares.append(sqr)\n",
    "\n",
    "print(squares)"
   ]
  },
  {
   "cell_type": "markdown",
   "metadata": {
    "slideshow": {
     "slide_type": "subslide"
    }
   },
   "source": [
    "## Looping Over a Range\n",
    "\n",
    "Looping over `names` here is really just going through the loop 4 times -  at index `0`, `1`, `2`, and `3`.\n",
    "\n",
    "We can instead use `range(x)` to track the index and  loop `names`: `range(4)` is `[0, 1, 2, 3]`.\n",
    "\n",
    "We can then use `len(names)`, which is 4, as our range."
   ]
  },
  {
   "cell_type": "code",
   "execution_count": null,
   "metadata": {
    "slideshow": {
     "slide_type": "fragment"
    }
   },
   "outputs": [],
   "source": [
    "names = [\"Flint\", \"John Cho\", \"Billy Bones\", \"Nanda Yuna\"]\n",
    "\n",
    "for each_name in range(len(names)):\n",
    "  print(names[each_name])"
   ]
  },
  {
   "cell_type": "markdown",
   "metadata": {
    "slideshow": {
     "slide_type": "subslide"
    }
   },
   "source": [
    "## Range to Modify Collections\n",
    "\n",
    "Why would you use `range` on a list, when you could just loop the list?\n",
    "\n",
    "We can't do:\n",
    "\n",
    "```python\n",
    "guest_list = [\"Fred\", \"Cho\", \"Brandi\", \"Yuna\", \"Nanda\", \"Denise\"]\n",
    "\n",
    "for guest in guest_list:\n",
    "  guest = \"A new name\"\n",
    "```\n",
    "\n",
    "But we can do:\n",
    "\n",
    "```python\n",
    "guest_list = [\"Fred\", \"Cho\", \"Brandi\", \"Yuna\", \"Nanda\", \"Denise\"]\n",
    "\n",
    "for guest in range(len(guest_list)):\n",
    "  guest_list[guest] = \"A new name\"\n",
    "```"
   ]
  },
  {
   "cell_type": "markdown",
   "metadata": {
    "slideshow": {
     "slide_type": "subslide"
    }
   },
   "source": [
    "## Looping Over a Range\n",
    "\n",
    "\n",
    "Let's make the list all uppercase:"
   ]
  },
  {
   "cell_type": "code",
   "execution_count": null,
   "metadata": {
    "slideshow": {
     "slide_type": "fragment"
    }
   },
   "outputs": [],
   "source": [
    "# This won't work\n",
    "\n",
    "guest_list = [\"Fred\", \"Cho\", \"Brandi\", \"Yuna\", \"Nanda\", \"Denise\"]\n",
    "\n",
    "for guest in guest_list:\n",
    "  guest = guest.upper()\n",
    "\n",
    "print(\"Without range, guest_list is\", guest_list)\n",
    "\n",
    "# This will!\n",
    "\n",
    "for guest in range(len(guest_list)):\n",
    "  guest_list[guest] = guest_list[guest].upper()\n",
    "\n",
    "print(\"With range, guest_list is\", guest_list)"
   ]
  },
  {
   "cell_type": "markdown",
   "metadata": {
    "slideshow": {
     "slide_type": "subslide"
    }
   },
   "source": [
    "## Knowledge Check: Which of the following lines is correct?\n",
    "\n",
    "```python\n",
    "my_list = ['mon', 'tue', 'wed', 'thu', 'fri']\n",
    "```\n",
    "```python\n",
    "for day in range(my_list):       # answer A\n",
    "for day in range(len(my_list)):    # answer B\n",
    "for day in range(my_list.length):  # answer C\n",
    "```"
   ]
  },
  {
   "cell_type": "markdown",
   "metadata": {
    "slideshow": {
     "slide_type": "subslide"
    }
   },
   "source": [
    "## You Do: Range\n",
    "\n",
    "Locally, create a new file called `range_practice.py`.\n",
    "\n",
    "In it:\n",
    "\n",
    "- Create a list of colors.\n",
    "- Using a `for` loop, print out the list.\n",
    "- Using `range`, set each item in the list to be the number of characters in the list.\n",
    "- Print the list.\n",
    "\n",
    "For example:\n",
    "```python\n",
    "[\"red\", \"green\", \"blue\"]\n",
    "# =>\n",
    "[3, 5, 4]\n",
    "```\n"
   ]
  },
  {
   "cell_type": "markdown",
   "metadata": {
    "slideshow": {
     "slide_type": "subslide"
    }
   },
   "source": [
    "## Quick Review: For Loops and Range\n",
    "\n",
    "\n",
    "`for` loops:\n",
    "\n",
    "```python\n",
    "# On a list (a collection of strings)\n",
    "guest_list = [\"Fred\", \"Cho\", \"Brandi\", \"Yuna\", \"Nanda\", \"Denise\"]\n",
    "for guest in guest_list:\n",
    "  print(\"Hello, \" + guest + \"!\")\n",
    "\n",
    "# On a string (a collection of characters)\n",
    "my_string = \"Hello, world!\"\n",
    "for character in my_string:\n",
    "  print(character)\n",
    "\n",
    "##### Range #####\n",
    "\n",
    "range(4)  # => [0, 1, 2, 3]\n",
    "\n",
    "# Using Range as an Index Counter\n",
    "names = [\"Flint\", \"John Cho\", \"Billy Bones\", \"Nanda Yuna\"]\n",
    "for each_name in range(4):\n",
    "  print(names[each_name])\n",
    "\n",
    "# OR\n",
    "\n",
    "for each_name in range(len(names)):\n",
    "  print(names[each_name])\n",
    "\n",
    "# Using Range to Change a List:\n",
    "\n",
    "guest_list = [\"Fred\", \"Cho\", \"Brandi\", \"Yuna\", \"Nanda\", \"Denise\"]\n",
    "for guest in range(len(guest_list)):\n",
    "  guest_list[guest] = \"A new name\"\n",
    "```"
   ]
  },
  {
   "cell_type": "markdown",
   "metadata": {
    "slideshow": {
     "slide_type": "slide"
    }
   },
   "source": [
    "## Summary + Q&A\n",
    "\n",
    "Loops:\n",
    "\n",
    "- Common, powerful control structures that let us efficiently deal with repetitive tasks.\n",
    "\n",
    "`for` loops:\n",
    "\n",
    "- Used to iterate a set number of times over a collection (e.g. list, string, or using `range`).\n",
    "- `range` use indices, not duplicates, so it lets you modify the collection.\n",
    "\n",
    "`while` loops:\n",
    "\n",
    "- Run until a condition is false.\n",
    "- Used when you don't know how many times you need to iterate.\n",
    "\n",
    "That was a tough lesson! Any questions?"
   ]
  },
  {
   "cell_type": "markdown",
   "metadata": {
    "slideshow": {
     "slide_type": "slide"
    }
   },
   "source": [
    "## Additional Reading\n",
    "\n",
    "- [Learn Python Programming: Loops Video](https://www.youtube.com/watch?v=JkQ0Xeg8LRI)\n",
    "- [Python: For Loop](https://wiki.python.org/moin/ForLoop)\n",
    "- [Python: Loops](https://www.tutorialspoint.com/python/python_loops.htm)"
   ]
  }
 ],
 "metadata": {
  "celltoolbar": "Slideshow",
  "kernelspec": {
   "display_name": "Python 3",
   "language": "python",
   "name": "python3"
  },
  "language_info": {
   "codemirror_mode": {
    "name": "ipython",
    "version": 3
   },
   "file_extension": ".py",
   "mimetype": "text/x-python",
   "name": "python",
   "nbconvert_exporter": "python",
   "pygments_lexer": "ipython3",
   "version": "3.7.1"
  },
  "rise": {
   "autolaunch": true,
   "scroll": true
  }
 },
 "nbformat": 4,
 "nbformat_minor": 2
}
