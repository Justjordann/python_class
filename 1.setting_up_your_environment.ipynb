{
 "cells": [
  {
   "cell_type": "markdown",
   "metadata": {},
   "source": [
    "# Install Docker\n",
    "* `yum install docker`\n",
    "* `service docker restart`\n",
    "* `docker ps` (there should be no running containers)\n",
    "\n",
    "To use Docker without typing `sudo` every time, add the Docker group (if it doesn’t already exist)\n",
    "* `sudo groupadd docker`\n",
    "* `sudo usermod -aG docker $USER`\n",
    "* Log out and log back in again"
   ]
  },
  {
   "cell_type": "markdown",
   "metadata": {},
   "source": [
    "------\n",
    "# Clone the `origin` repository\n",
    "\n",
    "**1. Clone the git repository for this class.**<br>\n",
    "*You may want to add your SSH key first so you don't have to keep entering your username and password every time you push/pull to Github.*\n",
    "* ```git clone git@github.com:josephinemho/python_class.git```\n",
    "\n",
    "**2. From the cloned folder, pull the Docker image.**<br>\n",
    "We will use an image for running a Jupyter server and call our container **py_class**. *You can call this something else if you like.*\n",
    "* ```docker pull josephinemho/custom-dockerfile```<vr>\n",
    "* ```docker run -it -v `pwd`:/home/jovyan -p 8888:8888 --name py_class josephinemho/custom-dockerfile```<br>\n",
    "\n",
    "**3. Hold down the ```command/ctrl``` key and click on the link to get to the Jupyter server in your browser.**<br>\n",
    "Alternatively, you can use the following command to get the link:\n",
    "* ```docker exec py_class jupyter notebook list```\n",
    "\n",
    "You should be able to access the cloned repository and start coding in Python using Jupyter notebooks!"
   ]
  },
  {
   "cell_type": "markdown",
   "metadata": {},
   "source": [
    "------\n",
    "# Push to your own repository\n",
    "First, open an blank notebook and add your name to the end of the file. Then, update `.gitignore` to include notebooks with `*solutions.ipynb`\n",
    "\n",
    "* Create a repository in your own Github account\n",
    "* Add your keys to Github (if you haven't done it already)\n",
    "* Add your repository as a remote alias\n",
    "* Push to your work to your own repository\n",
    "\n",
    "[Github Slides](https://github.com/travisDhuang/DAT8/blob/master/slides/02_git_github.pdf)"
   ]
  },
  {
   "cell_type": "markdown",
   "metadata": {
    "collapsed": true
   },
   "source": [
    "------\n",
    "# Pushing and puling"
   ]
  },
  {
   "cell_type": "markdown",
   "metadata": {},
   "source": [
    "From now on, we will *pull* our work from the origin repository and *push* your own work to your personal repository.\n",
    "\n",
    "Before each lesson, pull updates from the git repo by doing the following:\n",
    "* `git pull origin master`\n",
    "\n",
    "During each lesson, open the blank notebook and add your name to the end of the title \n",
    "* (e.g. `2.data_types_josephine`)\n",
    "\n",
    "After each lesson, push your work to your personal repo by doing the following:\n",
    "* `git push public master`"
   ]
  }
 ],
 "metadata": {
  "kernelspec": {
   "display_name": "Python 3",
   "language": "python",
   "name": "python3"
  },
  "language_info": {
   "codemirror_mode": {
    "name": "ipython",
    "version": 3
   },
   "file_extension": ".py",
   "mimetype": "text/x-python",
   "name": "python",
   "nbconvert_exporter": "python",
   "pygments_lexer": "ipython3",
   "version": "3.7.1"
  }
 },
 "nbformat": 4,
 "nbformat_minor": 2
}
